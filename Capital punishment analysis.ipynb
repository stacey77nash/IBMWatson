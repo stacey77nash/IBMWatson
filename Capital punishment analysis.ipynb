{
    "cells": [
        {
            "cell_type": "code",
            "execution_count": null,
            "metadata": {},
            "outputs": [],
            "source": "# The code was removed by Watson Studio for sharing."
        },
        {
            "cell_type": "markdown",
            "metadata": {},
            "source": "Description: \nThis notebook analyzes and visualizes capital punishment data"
        },
        {
            "cell_type": "code",
            "execution_count": 1,
            "metadata": {},
            "outputs": [
                {
                    "data": {
                        "text/html": "<div>\n<style scoped>\n    .dataframe tbody tr th:only-of-type {\n        vertical-align: middle;\n    }\n\n    .dataframe tbody tr th {\n        vertical-align: top;\n    }\n\n    .dataframe thead th {\n        text-align: right;\n    }\n</style>\n<table border=\"1\" class=\"dataframe\">\n  <thead>\n    <tr style=\"text-align: right;\">\n      <th></th>\n      <th>STATE</th>\n      <th>EXECUTIONS</th>\n      <th>INCOME</th>\n      <th>PERPOVERTY</th>\n      <th>PERBLACK</th>\n      <th>VC100k96</th>\n      <th>SOUTH</th>\n      <th>DEGREE</th>\n    </tr>\n  </thead>\n  <tbody>\n    <tr>\n      <th>0</th>\n      <td>Texas</td>\n      <td>37</td>\n      <td>34453</td>\n      <td>16.7</td>\n      <td>12.2</td>\n      <td>644</td>\n      <td>1</td>\n      <td>0.16</td>\n    </tr>\n    <tr>\n      <th>1</th>\n      <td>Virginia</td>\n      <td>9</td>\n      <td>41534</td>\n      <td>12.5</td>\n      <td>20.0</td>\n      <td>351</td>\n      <td>1</td>\n      <td>0.27</td>\n    </tr>\n    <tr>\n      <th>2</th>\n      <td>Missouri</td>\n      <td>6</td>\n      <td>35802</td>\n      <td>10.6</td>\n      <td>11.2</td>\n      <td>591</td>\n      <td>0</td>\n      <td>0.21</td>\n    </tr>\n    <tr>\n      <th>3</th>\n      <td>Arkansas</td>\n      <td>4</td>\n      <td>26954</td>\n      <td>18.4</td>\n      <td>16.1</td>\n      <td>524</td>\n      <td>1</td>\n      <td>0.16</td>\n    </tr>\n    <tr>\n      <th>4</th>\n      <td>Alabama</td>\n      <td>3</td>\n      <td>31468</td>\n      <td>14.8</td>\n      <td>25.9</td>\n      <td>565</td>\n      <td>1</td>\n      <td>0.19</td>\n    </tr>\n  </tbody>\n</table>\n</div>",
                        "text/plain": "      STATE  EXECUTIONS  INCOME  PERPOVERTY  PERBLACK  VC100k96  SOUTH  DEGREE\n0     Texas          37   34453        16.7      12.2       644      1    0.16\n1  Virginia           9   41534        12.5      20.0       351      1    0.27\n2  Missouri           6   35802        10.6      11.2       591      0    0.21\n3  Arkansas           4   26954        18.4      16.1       524      1    0.16\n4   Alabama           3   31468        14.8      25.9       565      1    0.19"
                    },
                    "execution_count": 1,
                    "metadata": {},
                    "output_type": "execute_result"
                }
            ],
            "source": "# The code was removed by Watson Studio for sharing."
        },
        {
            "cell_type": "code",
            "execution_count": null,
            "metadata": {},
            "outputs": [],
            "source": ""
        }
    ],
    "metadata": {
        "kernelspec": {
            "display_name": "Python 3.6",
            "language": "python",
            "name": "python3"
        },
        "language_info": {
            "codemirror_mode": {
                "name": "ipython",
                "version": 3
            },
            "file_extension": ".py",
            "mimetype": "text/x-python",
            "name": "python",
            "nbconvert_exporter": "python",
            "pygments_lexer": "ipython3",
            "version": "3.6.9"
        }
    },
    "nbformat": 4,
    "nbformat_minor": 1
}